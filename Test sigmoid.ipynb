{
 "cells": [
  {
   "cell_type": "code",
   "execution_count": 1,
   "metadata": {
    "collapsed": true
   },
   "outputs": [],
   "source": [
    "import torch\n",
    "import time \n",
    "from torch.autograd import Function\n",
    "from matplotlib import pyplot as plt\n",
    "%matplotlib inline"
   ]
  },
  {
   "cell_type": "code",
   "execution_count": 2,
   "metadata": {
    "collapsed": true
   },
   "outputs": [],
   "source": [
    "from torchvision import datasets, transforms\n",
    "\n",
    "## une fois le dataset telecharge, mettre download=False !\n",
    "## Pour le test, train = False\n",
    "## transform permet de faire un preprocessing des donnees (ici ?)\n",
    "train_loader = torch.utils.data.DataLoader(datasets.MNIST('./data', train=True, download=True,\\\n",
    "    transform=transforms.Compose([transforms.ToTensor(), transforms.Normalize((0.1307,),(0.3081,))])), batch_size=64, shuffle=True)\n",
    "test_loader = torch.utils.data.DataLoader(datasets.MNIST('./data', train=False, download=False,\\\n",
    "    transform=transforms.Compose([transforms.ToTensor(), transforms.Normalize((0.1307,),(0.3081,))])), batch_size=64, shuffle=True)"
   ]
  },
  {
   "cell_type": "code",
   "execution_count": 3,
   "metadata": {},
   "outputs": [
    {
     "name": "stdout",
     "output_type": "stream",
     "text": [
      "torch.Size([60000, 28, 28])\n"
     ]
    },
    {
     "data": {
      "image/png": "[encoded data removed]",
      "text/plain": [
       "<matplotlib.figure.Figure at 0x7f4e633e7f60>"
      ]
     },
     "metadata": {},
     "output_type": "display_data"
    },
    {
     "name": "stdout",
     "output_type": "stream",
     "text": [
      "5\n"
     ]
    }
   ],
   "source": [
    "print(train_loader.dataset.train_data.size())\n",
    "plt.imshow(train_loader.dataset.train_data[0].numpy(), cmap='gray')\n",
    "plt.show()\n",
    "print(train_loader.dataset.train_labels[0])"
   ]
  },
  {
   "cell_type": "code",
   "execution_count": 4,
   "metadata": {
    "collapsed": true
   },
   "outputs": [],
   "source": [
    "class Group(Function):\n",
    "    \"fonction de groupe linéaire\"\n",
    "    def __init__(self, l):\n",
    "        \"l est une liste de module\"\n",
    "        self.l = l\n",
    "    \n",
    "    def forward(self, x):\n",
    "        for m in self.l:\n",
    "            x = m.forward(x)\n",
    "        return x\n",
    "    \n",
    "    def backward(self, delta):\n",
    "        r = []\n",
    "        for m in reversed(self.l):\n",
    "            delta = m.backward(delta)\n",
    "        return delta\n",
    "    \n",
    "    def update(self, r = 1e-3):\n",
    "        for m in self.l:\n",
    "            m.update(r)\n",
    "            "
   ]
  },
  {
   "cell_type": "code",
   "execution_count": 5,
   "metadata": {
    "collapsed": true
   },
   "outputs": [],
   "source": [
    "class Flinear(Function):\n",
    "    def __init__(self, p):\n",
    "        self.p = p\n",
    "    \n",
    "    def forward(self, x):\n",
    "        self.x = x\n",
    "        return x.mm(self.p)\n",
    "    \n",
    "    def backward(self, delta):\n",
    "        self.g = self.x.t().mm(delta)\n",
    "        return delta.mm(self.p.t())\n",
    "    \n",
    "    def update(self, r = 1e-3):\n",
    "        self.p -= r * self.g"
   ]
  },
  {
   "cell_type": "code",
   "execution_count": 6,
   "metadata": {
    "collapsed": true
   },
   "outputs": [],
   "source": [
    "class Floss(Function):\n",
    "    def forward(self, yPred, y):\n",
    "        self.yP = yPred\n",
    "        self.y = y\n",
    "        return (yPred - y) * (yPred - y)\n",
    "\n",
    "    def backward(self):\n",
    "        r = 2 * (self.yP - self.y)\n",
    "        return r\n",
    "    \n",
    "    def update(self, r = 0):\n",
    "        pass"
   ]
  },
  {
   "cell_type": "code",
   "execution_count": 7,
   "metadata": {
    "collapsed": true
   },
   "outputs": [],
   "source": [
    "class MFloss(Function):\n",
    "    def forward(self, yPred, y):\n",
    "        self.yP = yPred\n",
    "        self.y = y\n",
    "        return torch.mean((yPred - y) * (yPred - y))\n",
    "\n",
    "    def backward(self):\n",
    "        r = 2 * (self.yP - self.y)/ self.yP.size()[0]\n",
    "        return r\n",
    "    \n",
    "    def update(self, r = 0):\n",
    "        pass"
   ]
  },
  {
   "cell_type": "code",
   "execution_count": 8,
   "metadata": {
    "collapsed": true
   },
   "outputs": [],
   "source": [
    "class Htan(Function):\n",
    "    def forward(self, x):\n",
    "        self.x = x\n",
    "        return (1 - torch.exp(-2*x))/(1+torch.exp(-2*x))\n",
    "    \n",
    "    def backward(self, delta):\n",
    "        r = (1 - torch.exp(-2*self.x))/(1+torch.exp(-2*self.x)) * (1 - torch.exp(-2*self.x))/(1+torch.exp(-2*self.x))\n",
    "        return delta * (1 - r)\n",
    "    \n",
    "    def update(self, r = 0):\n",
    "        pass"
   ]
  },
  {
   "cell_type": "code",
   "execution_count": 9,
   "metadata": {
    "collapsed": true
   },
   "outputs": [],
   "source": [
    "class SHtan(Function):\n",
    "    \"htan mais de dérivé f'(x)=x\"\n",
    "    def forward(self, x):\n",
    "        self.x = x\n",
    "        return (1 - torch.exp(-2*x))/(1+torch.exp(-2*x))\n",
    "    \n",
    "    def backward(self, delta):\n",
    "        return delta\n",
    "    \n",
    "    def update(self, r = 0):\n",
    "        pass"
   ]
  },
  {
   "cell_type": "code",
   "execution_count": 10,
   "metadata": {
    "collapsed": true
   },
   "outputs": [],
   "source": [
    "class Sig(Function):\n",
    "    def __init__(self, r = 1):\n",
    "        self.r = r\n",
    "    \n",
    "    def forward(self, x):\n",
    "        self.x = x\n",
    "        return 1/(1+torch.exp(-self.r*x))\n",
    "    \n",
    "    def backward(self, delta):\n",
    "        r = 1/(1+torch.exp(-self.r*self.x))\n",
    "        return delta * r * (1-r)\n",
    "    \n",
    "    def update(self, r = 0):\n",
    "        pass"
   ]
  },
  {
   "cell_type": "code",
   "execution_count": 11,
   "metadata": {
    "collapsed": true
   },
   "outputs": [],
   "source": [
    "class SSig(Function):\n",
    "    \"sigmoid mais de dérivé f'(x)=x\"\n",
    "    def __init__(self, r = 1):\n",
    "        self.r = r\n",
    "    \n",
    "    def forward(self, x):\n",
    "        self.x = x\n",
    "        return 1/(1+torch.exp(-self.r*x))\n",
    "    \n",
    "    def backward(self, delta):\n",
    "        return delta\n",
    "    \n",
    "    def update(self, r = 0):\n",
    "        pass"
   ]
  },
  {
   "cell_type": "code",
   "execution_count": 16,
   "metadata": {
    "scrolled": true
   },
   "outputs": [
    {
     "name": "stdout",
     "output_type": "stream",
     "text": [
      "701.372255\n",
      "Temps moyen de calcul par iteration : 701.372255 s\n"
     ]
    },
    {
     "data": {
      "image/png": "[encoded data removed]",
      "text/plain": [
       "<matplotlib.figure.Figure at 0x7f4e5d4d0470>"
      ]
     },
     "metadata": {},
     "output_type": "display_data"
    },
    {
     "data": {
      "image/png": "[encoded data removed]",
      "text/plain": [
       "<matplotlib.figure.Figure at 0x7f4e5d5dce80>"
      ]
     },
     "metadata": {},
     "output_type": "display_data"
    }
   ],
   "source": [
    "lamb = 1\n",
    "m = Group([Flinear(torch.rand(784,10)), Sig()])\n",
    "ml = Floss()\n",
    "lossHisto = []\n",
    "scoreHisto = []\n",
    "iteration = 1\n",
    "temps = []\n",
    "\n",
    "for ite in range(iteration):\n",
    "    tps1 = time.clock()\n",
    "    for x,yN in train_loader:\n",
    "        \n",
    "        x = x.view(-1,784)\n",
    "        \n",
    "        y_onehot = torch.FloatTensor(*yN.size(), 10).zero_()\n",
    "        y_onehot.scatter_(1, torch.unsqueeze(yN, 1), 1)\n",
    "        y = y_onehot        \n",
    "        \n",
    "        f = m.forward(x)\n",
    "        loss = ml.forward(f, y)\n",
    "        delta = ml.backward()\n",
    "        m.backward(delta)\n",
    "        m.update(lamb)\n",
    "        \n",
    "        x = train_loader.dataset.train_data.float().view(-1,784)\n",
    "        yN = train_loader.dataset.train_labels\n",
    "        \n",
    "        y_onehot = torch.FloatTensor(*yN.size(), 10).zero_()\n",
    "        y_onehot.scatter_(1, torch.unsqueeze(yN, 1), 1)\n",
    "        y = y_onehot\n",
    "        \n",
    "        f = m.forward(x)\n",
    "        loss = ml.forward(f, y)\n",
    "        delta = ml.backward()\n",
    "        m.backward(delta)\n",
    "        m.update(lamb)\n",
    "        \n",
    "        lossHisto.append(loss.mean())\n",
    "        ypred = torch.max(f, 1)[1]\n",
    "        scoreHisto.append(sum([1 for ip, i in zip(ypred, yN) if ip == i])/x.size(0))\n",
    "        \n",
    "    tps2 = time.clock() \n",
    "    print(tps2 - tps1)\n",
    "    temps.append(tps2 - tps1)\n",
    "print(\"Temps moyen de calcul par iteration :\", sum(temps)/len(temps), \"s\")\n",
    "plt.plot(lossHisto)\n",
    "plt.ylabel('loss')\n",
    "plt.xlabel('nb batch traited')\n",
    "plt.show()\n",
    "plt.plot(scoreHisto)\n",
    "plt.ylabel('score')\n",
    "plt.xlabel('nb batch traited')\n",
    "plt.show()"
   ]
  },
  {
   "cell_type": "code",
   "execution_count": 17,
   "metadata": {
    "scrolled": true
   },
   "outputs": [
    {
     "name": "stdout",
     "output_type": "stream",
     "text": [
      "725.114386\n",
      "Temps moyen de calcul par iteration : 725.114386 s\n"
     ]
    },
    {
     "data": {
      "image/png": "[encoded data removed]",
      "text/plain": [
       "<matplotlib.figure.Figure at 0x7f4e5d500860>"
      ]
     },
     "metadata": {},
     "output_type": "display_data"
    },
    {
     "data": {
      "image/png": "[encoded data removed]",
      "text/plain": [
       "<matplotlib.figure.Figure at 0x7f4e520af0b8>"
      ]
     },
     "metadata": {},
     "output_type": "display_data"
    }
   ],
   "source": [
    "lamb = 1\n",
    "m = Group([Flinear(torch.rand(784,10)), SSig()])\n",
    "ml = Floss()\n",
    "lossHisto = []\n",
    "scoreHisto = []\n",
    "iteration = 1\n",
    "temps = []\n",
    "\n",
    "for ite in range(iteration):\n",
    "    tps1 = time.clock()\n",
    "    for x,yN in train_loader:\n",
    "        \n",
    "        x = x.view(-1,784)\n",
    "        \n",
    "        y_onehot = torch.FloatTensor(*yN.size(), 10).zero_()\n",
    "        y_onehot.scatter_(1, torch.unsqueeze(yN, 1), 1)\n",
    "        y = y_onehot        \n",
    "        \n",
    "        f = m.forward(x)\n",
    "        loss = ml.forward(f, y)\n",
    "        delta = ml.backward()\n",
    "        m.backward(delta)\n",
    "        m.update(lamb)\n",
    "        \n",
    "        x = train_loader.dataset.train_data.float().view(-1,784)\n",
    "        yN = train_loader.dataset.train_labels\n",
    "        \n",
    "        y_onehot = torch.FloatTensor(*yN.size(), 10).zero_()\n",
    "        y_onehot.scatter_(1, torch.unsqueeze(yN, 1), 1)\n",
    "        y = y_onehot\n",
    "        \n",
    "        f = m.forward(x)\n",
    "        loss = ml.forward(f, y)\n",
    "        delta = ml.backward()\n",
    "        m.backward(delta)\n",
    "        m.update(lamb)\n",
    "        \n",
    "        lossHisto.append(loss.mean())\n",
    "        ypred = torch.max(f, 1)[1]\n",
    "        scoreHisto.append(sum([1 for ip, i in zip(ypred, yN) if ip == i])/x.size(0))\n",
    "        \n",
    "    tps2 = time.clock() \n",
    "    print(tps2 - tps1)\n",
    "    temps.append(tps2 - tps1)\n",
    "print(\"Temps moyen de calcul par iteration :\", sum(temps)/len(temps), \"s\")\n",
    "plt.plot(lossHisto)\n",
    "plt.ylabel('loss')\n",
    "plt.xlabel('nb batch traited')\n",
    "plt.show()\n",
    "plt.plot(scoreHisto)\n",
    "plt.ylabel('score')\n",
    "plt.xlabel('nb batch traited')\n",
    "plt.show()"
   ]
  },
  {
   "cell_type": "markdown",
   "metadata": {},
   "source": [
    "On peut voir dans les 2 tests ci dessus que la sigmoide avec la dérivé changé fonctionne mieux que la sigmoide normale pour le sore en train."
   ]
  }
 ],
 "metadata": {
  "kernelspec": {
   "display_name": "Python 3",
   "language": "python",
   "name": "python3"
  },
  "language_info": {
   "codemirror_mode": {
    "name": "ipython",
    "version": 3
   },
   "file_extension": ".py",
   "mimetype": "text/x-python",
   "name": "python",
   "nbconvert_exporter": "python",
   "pygments_lexer": "ipython3",
   "version": "3.6.3"
  }
 },
 "nbformat": 4,
 "nbformat_minor": 1
}

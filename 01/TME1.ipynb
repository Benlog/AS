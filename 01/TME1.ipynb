{
 "cells": [
  {
   "cell_type": "code",
   "execution_count": 1,
   "metadata": {
    "collapsed": true
   },
   "outputs": [],
   "source": [
    "import pandas as pd\n",
    "import numpy as np"
   ]
  },
  {
   "cell_type": "code",
   "execution_count": 2,
   "metadata": {
    "collapsed": true
   },
   "outputs": [],
   "source": [
    "def read_libsvm(fname):\n",
    "    with open(fname) as f:\n",
    "        x,y  =list(),list()\n",
    "        for l in f:\n",
    "            line = l.strip().split(\" \")\n",
    "            y.append(int(line[0]))\n",
    "            x.append([float(s.split(\":\")[1]) for s in line[1:]])\n",
    "    return np.array(x),np.array(y)"
   ]
  },
  {
   "cell_type": "code",
   "execution_count": 3,
   "metadata": {
    "collapsed": true
   },
   "outputs": [],
   "source": [
    "class Loss:\n",
    "    def forward(self, yPred, y):\n",
    "        pass\n",
    "\n",
    "    def backward(self, yPred, y):\n",
    "        pass"
   ]
  },
  {
   "cell_type": "code",
   "execution_count": 4,
   "metadata": {
    "collapsed": true
   },
   "outputs": [],
   "source": [
    "class Module:\n",
    "    def forward(self, x):\n",
    "        pass\n",
    "\n",
    "    def backward(self, x, delta):\n",
    "        pass\n",
    "\n",
    "    def update(self):\n",
    "        pass"
   ]
  },
  {
   "cell_type": "code",
   "execution_count": 39,
   "metadata": {
    "collapsed": true
   },
   "outputs": [],
   "source": [
    "def gradSto(m, l, x, y, n = 10000, minErr = 0):\n",
    "    ''' x in size N*arg'''\n",
    "    for i in range(n):\n",
    "        j = np.random.randint(0,len(x))\n",
    "        yPred = m.forward(x[j])\n",
    "        err = l.forward(yPred, y[j])\n",
    "        theta = l.backward(yPred, y[j])\n",
    "        m.backward(x[j], theta)\n",
    "        if (err <= minErr):\n",
    "            break"
   ]
  },
  {
   "cell_type": "code",
   "execution_count": 10,
   "metadata": {
    "collapsed": true
   },
   "outputs": [],
   "source": [
    "class SquareLoss:\n",
    "    def forward(self, yPred, y):\n",
    "        return np.mean((yPred - y) * (yPred - y))\n",
    "\n",
    "    def backward(self, yPred, y):\n",
    "        return 2 * yPred - 2 * y"
   ]
  },
  {
   "cell_type": "code",
   "execution_count": 72,
   "metadata": {
    "collapsed": true
   },
   "outputs": [],
   "source": [
    "class Linear:\n",
    "    def __init__(self, e = 0.1):\n",
    "        self.ini = False\n",
    "        self.eps = e\n",
    "    \n",
    "    def init(self, x):\n",
    "        self.param = np.random.random(x.shape[1]+1)\n",
    "        self.grad = np.zeros((1,x.shape[1]+1))\n",
    "        self.ini = True\n",
    "\n",
    "    def forward(self, x):\n",
    "        if x.ndim < 2:\n",
    "            x = x.reshape((1,-1))\n",
    "        if self.ini == False :\n",
    "            self.init(x)\n",
    "        return np.sum(np.concatenate((np.ones((x.shape[0],1)), x), axis = 1) * self.param, 1)\n",
    "    \n",
    "    def backward(self, x, theta):\n",
    "        if x.ndim < 2:\n",
    "            x = x.reshape((1,-1))\n",
    "        g = theta * np.concatenate((np.ones((x.shape[0],1)), x), axis = 1)\n",
    "        self.grad = np.concatenate((self.grad, g))\n",
    "        self.param = self.param - self.eps * g"
   ]
  },
  {
   "cell_type": "code",
   "execution_count": 73,
   "metadata": {
    "collapsed": true
   },
   "outputs": [],
   "source": [
    "m = Linear()\n",
    "l = SquareLoss()\n",
    "x,y = read_libsvm(\"./breast-cancer_scale\")\n",
    "gradSto(m,l,x,y)"
   ]
  },
  {
   "cell_type": "code",
   "execution_count": 94,
   "metadata": {
    "collapsed": true
   },
   "outputs": [],
   "source": [
    "class Perceptron(Linear):\n",
    "    def forward(self, x):\n",
    "        r = Linear.forward(self, x)\n",
    "        r[r>=0] = 1\n",
    "        r[r<0] = -1\n",
    "        return r"
   ]
  },
  {
   "cell_type": "code",
   "execution_count": 95,
   "metadata": {
    "collapsed": true
   },
   "outputs": [],
   "source": [
    "m = Perceptron()\n",
    "l = SquareLoss()\n",
    "x,y = read_libsvm(\"./breast-cancer_scale\")\n",
    "y[y == 2] = -1\n",
    "y[y == 4] = 1\n",
    "gradSto(m,l,x,y)"
   ]
  },
  {
   "cell_type": "code",
   "execution_count": 96,
   "metadata": {
    "collapsed": true
   },
   "outputs": [],
   "source": [
    "def unison_shuffled_copies(a, b):\n",
    "    assert len(a) == len(b)\n",
    "    p = np.random.permutation(len(a))\n",
    "    return a[p], b[p]"
   ]
  },
  {
   "cell_type": "code",
   "execution_count": 115,
   "metadata": {
    "collapsed": true
   },
   "outputs": [],
   "source": [
    "x,y = unison_shuffled_copies(x, y)\n",
    "trainx = x[:int(x.shape[0]*0.8)]\n",
    "trainy = y[:int(y.shape[0]*0.8)]\n",
    "testx = x[int(x.shape[0]*0.2):]\n",
    "testy = y[int(y.shape[0]*0.2):]"
   ]
  },
  {
   "cell_type": "code",
   "execution_count": 143,
   "metadata": {
    "collapsed": true
   },
   "outputs": [],
   "source": [
    "def gradStoAff(m, l, tx, ty, tex, tey, n = 100):\n",
    "    ''' x in size N*arg'''\n",
    "    errt = []\n",
    "    errte = []\n",
    "    for i in range(n):\n",
    "        j = np.random.randint(0,len(tx))\n",
    "        yPred = m.forward(tx[j])\n",
    "        errt.append(l.forward(m.forward(tx), ty))\n",
    "        errte.append(l.forward(m.forward(tex), tey))\n",
    "        theta = l.backward(yPred, ty[j])\n",
    "        m.backward(tx[j], theta)\n",
    "    return errt, errte"
   ]
  },
  {
   "cell_type": "code",
   "execution_count": 144,
   "metadata": {
    "collapsed": true
   },
   "outputs": [],
   "source": [
    "m = Perceptron()\n",
    "l = SquareLoss()\n",
    "errt, errte = gradStoAff(m,l,trainx,trainy, testx, testy)"
   ]
  },
  {
   "cell_type": "code",
   "execution_count": 145,
   "metadata": {
    "collapsed": true
   },
   "outputs": [],
   "source": [
    "from matplotlib import pyplot as plt"
   ]
  },
  {
   "cell_type": "code",
   "execution_count": 146,
   "metadata": {},
   "outputs": [
    {
     "data": {
      "image/png": "[encoded data removed]",
      "text/plain": [
       "<matplotlib.figure.Figure at 0x28f3f6393c8>"
      ]
     },
     "metadata": {},
     "output_type": "display_data"
    }
   ],
   "source": [
    "plt.plot(errt, 'b')\n",
    "plt.plot(errte, 'r')\n",
    "plt.show()"
   ]
  },
  {
   "cell_type": "code",
   "execution_count": null,
   "metadata": {
    "collapsed": true
   },
   "outputs": [],
   "source": []
  }
 ],
 "metadata": {
  "kernelspec": {
   "display_name": "Python 3",
   "language": "python",
   "name": "python3"
  },
  "language_info": {
   "codemirror_mode": {
    "name": "ipython",
    "version": 3
   },
   "file_extension": ".py",
   "mimetype": "text/x-python",
   "name": "python",
   "nbconvert_exporter": "python",
   "pygments_lexer": "ipython3",
   "version": "3.6.2"
  }
 },
 "nbformat": 4,
 "nbformat_minor": 2
}

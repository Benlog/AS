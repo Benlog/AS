{
 "cells": [
  {
   "cell_type": "code",
   "execution_count": 14,
   "metadata": {
    "collapsed": true,
    "nbpresent": {
     "id": "88a05bb0-aed1-474c-8cc3-72d7688ca8d2"
    }
   },
   "outputs": [],
   "source": [
    "import torch\n",
    "import torch.autograd as autograd\n",
    "import torch.nn as nn\n",
    "import torch.nn.functional as F\n",
    "import torch.optim as optim\n",
    "import pandas as pd\n",
    "from matplotlib import pyplot as plt\n",
    "%matplotlib inline"
   ]
  },
  {
   "cell_type": "code",
   "execution_count": 15,
   "metadata": {
    "nbpresent": {
     "id": "726dd813-5008-46e2-a350-638d4d5aeb7f"
    }
   },
   "outputs": [
    {
     "ename": "ModuleNotFoundError",
     "evalue": "No module named 'charDataset'",
     "output_type": "error",
     "traceback": [
      "\u001b[0;31m---------------------------------------------------------------------------\u001b[0m",
      "\u001b[0;31mModuleNotFoundError\u001b[0m                       Traceback (most recent call last)",
      "\u001b[0;32m<ipython-input-15-936c42ee753e>\u001b[0m in \u001b[0;36m<module>\u001b[0;34m()\u001b[0m\n\u001b[1;32m      1\u001b[0m \u001b[0;32mimport\u001b[0m \u001b[0msys\u001b[0m\u001b[0;34m\u001b[0m\u001b[0m\n\u001b[1;32m      2\u001b[0m \u001b[0msys\u001b[0m\u001b[0;34m.\u001b[0m\u001b[0mpath\u001b[0m\u001b[0;34m.\u001b[0m\u001b[0mappend\u001b[0m\u001b[0;34m(\u001b[0m\u001b[0;34m'./as-tp6'\u001b[0m\u001b[0;34m)\u001b[0m\u001b[0;34m\u001b[0m\u001b[0m\n\u001b[0;32m----> 3\u001b[0;31m \u001b[0;32mfrom\u001b[0m \u001b[0mcharDataset\u001b[0m \u001b[0;32mimport\u001b[0m \u001b[0;34m*\u001b[0m\u001b[0;34m\u001b[0m\u001b[0m\n\u001b[0m",
      "\u001b[0;31mModuleNotFoundError\u001b[0m: No module named 'charDataset'"
     ]
    }
   ],
   "source": [
    "import sys\n",
    "sys.path.append('./as-tp6')\n",
    "from charDataset import *"
   ]
  },
  {
   "cell_type": "markdown",
   "metadata": {},
   "source": [
    "###### Dataset Trump Tweets\n",
    "\n",
    "On utilise l'ensemble des tweets postés par Donald Trump."
   ]
  },
  {
   "cell_type": "code",
   "execution_count": null,
   "metadata": {},
   "outputs": [],
   "source": [
    "data = pd.read_csv(\"trump.csv\", dtype=str, delimiter=\",\", usecols=[2])\n",
    "data.sample(5)"
   ]
  },
  {
   "cell_type": "markdown",
   "metadata": {},
   "source": [
    "On utilise les fonctions ord et chr pour facilement convertir les caractères en valeurs numériques, et on crée les ensembles d'apprentissage et de test."
   ]
  },
  {
   "cell_type": "code",
   "execution_count": null,
   "metadata": {
    "collapsed": true
   },
   "outputs": [],
   "source": []
  },
  {
   "cell_type": "code",
   "execution_count": 3,
   "metadata": {
    "collapsed": true,
    "nbpresent": {
     "id": "40ed8f3e-73f1-4614-965b-1a62d18c1b84"
    }
   },
   "outputs": [],
   "source": [
    "class Recurent(nn.Module):\n",
    "    def __init__(self, tailleZ, tailleVoc, actF = nn.Sigmoid()):\n",
    "        '''X et Y vecteur onehot de taille tailleVoc\n",
    "        Z vecteur de stockage de taille tailleZ'''\n",
    "        super(Recurent, self).__init__()\n",
    "        self.XToY = nn.Linear(tailleVoc, tailleVoc)\n",
    "        self.XToZ = nn.Linear(tailleVoc, tailleZ)\n",
    "        self.ZToY = nn.Linear(tailleZ, tailleVoc)\n",
    "        self.ZToZ = nn.Linear(tailleZ, tailleZ)\n",
    "        self.actF = actF\n",
    "\n",
    "    def forward(self, x, z):\n",
    "        '''return Z, Y'''\n",
    "        #print(\"x\", x, \"z\", z)\n",
    "        return self.actF(self.XToZ(x) + self.ZToZ(z)), self.actF(self.XToY(x) + self.ZToY(z))"
   ]
  },
  {
   "cell_type": "code",
   "execution_count": 4,
   "metadata": {
    "collapsed": true,
    "nbpresent": {
     "id": "9f3217b3-cd0a-461b-9a7d-154809350665"
    }
   },
   "outputs": [],
   "source": [
    "class RecurentGated(nn.Module):\n",
    "    def __init__(self, tailleZ, tailleVoc, actF = nn.Sigmoid()):\n",
    "        '''X et Y vecteur onehot de taille tailleVoc\n",
    "        Z vecteur de stockage de taille tailleZ'''\n",
    "        super(Recurent, self).__init__()\n",
    "        self.XToY = nn.Linear(tailleVoc, tailleVoc)\n",
    "        self.XToZ = nn.Linear(tailleVoc, tailleZ)\n",
    "        self.ZToY = nn.Linear(tailleZ, tailleVoc)\n",
    "        self.ZToZ = nn.Linear(tailleZ, tailleZ)\n",
    "        self.gateZ = nn.Linear(tailleVoc, tailleZ)\n",
    "        self.gateY = nn.Linear(tailleVoc, tailleVoc)\n",
    "        self.actF = actF\n",
    "\n",
    "    def forward(self, x, z):\n",
    "        '''return Z, Y'''\n",
    "        soft = torch.nn.Softmax(-1)\n",
    "        return soft(self.XtoZ(x)) * self.actF(self.gateZ(x)) + self.actF(self.ZtoZ(z)) * (1-self.actF(self.gateZ(x))),\\\n",
    "    self.actF(self.XtoY(x)) * self.actF(self.gateY(x)) + self.actF(self.ZtoY(z)) + (1 - self.actF(self.gateY(x)))"
   ]
  },
  {
   "cell_type": "code",
   "execution_count": 5,
   "metadata": {
    "collapsed": true,
    "nbpresent": {
     "id": "53542e61-8850-4f49-8744-d101fa68a1dc"
    }
   },
   "outputs": [],
   "source": [
    "fData = \"./as-tp6/train_data.tx\"\n",
    "fVoc = \"./as-tp6/vocab.tx\"\n",
    "ten = torch.load(fData)\n",
    "rawVoc = torch.load(fVoc)"
   ]
  },
  {
   "cell_type": "code",
   "execution_count": 6,
   "metadata": {
    "collapsed": true,
    "nbpresent": {
     "id": "d79a8f51-5bea-4f78-8ebe-80ef0c8d2f82"
    }
   },
   "outputs": [],
   "source": [
    "class bidict(dict):\n",
    "    def __init__(self, *args, **kwargs):\n",
    "        super(bidict, self).__init__(*args, **kwargs)\n",
    "        self.inverse = {}\n",
    "        for key, value in self.items():\n",
    "            self.inverse.setdefault(value,[]).append(key) \n",
    "\n",
    "    def __setitem__(self, key, value):\n",
    "        if key in self:\n",
    "            self.inverse[self[key]].remove(key) \n",
    "        super(bidict, self).__setitem__(key, value)\n",
    "        self.inverse.setdefault(value,[]).append(key)        \n",
    "\n",
    "    def __delitem__(self, key):\n",
    "        self.inverse.setdefault(self[key],[]).remove(key)\n",
    "        if self[key] in self.inverse and not self.inverse[self[key]]: \n",
    "            del self.inverse[self[key]]\n",
    "        super(bidict, self).__delitem__(key)"
   ]
  },
  {
   "cell_type": "code",
   "execution_count": 7,
   "metadata": {
    "collapsed": true,
    "nbpresent": {
     "id": "f46932a5-d01f-4b44-b613-e7c791d43007"
    }
   },
   "outputs": [],
   "source": [
    "voc = bidict(rawVoc)\n",
    "voc[' '] = 1\n",
    "voc['0'] = 0\n",
    "voc['.'] = 35\n",
    "voc['z'] = 33\n",
    "voc['y'] = 34\n",
    "voc['y'] = 34\n",
    "voc['w'] = 32"
   ]
  },
  {
   "cell_type": "code",
   "execution_count": 8,
   "metadata": {
    "nbpresent": {
     "id": "5f55c4ab-6db2-4519-a3f7-5c1262daa88d"
    }
   },
   "outputs": [
    {
     "data": {
      "text/plain": [
       "{' ': 1,\n",
       " '.': 35,\n",
       " '0': 0,\n",
       " '1': 2,\n",
       " '2': 3,\n",
       " '3': 4,\n",
       " '4': 5,\n",
       " '5': 6,\n",
       " '7': 7,\n",
       " '8': 8,\n",
       " '_': 9,\n",
       " 'a': 10,\n",
       " 'b': 11,\n",
       " 'c': 12,\n",
       " 'd': 13,\n",
       " 'e': 14,\n",
       " 'f': 15,\n",
       " 'g': 16,\n",
       " 'h': 17,\n",
       " 'i': 18,\n",
       " 'j': 19,\n",
       " 'k': 20,\n",
       " 'l': 21,\n",
       " 'm': 22,\n",
       " 'n': 23,\n",
       " 'o': 24,\n",
       " 'p': 25,\n",
       " 'q': 26,\n",
       " 'r': 27,\n",
       " 's': 28,\n",
       " 't': 29,\n",
       " 'u': 30,\n",
       " 'v': 31,\n",
       " 'w': 32,\n",
       " 'x': 32,\n",
       " 'y': 34,\n",
       " 'z': 33}"
      ]
     },
     "execution_count": 8,
     "metadata": {},
     "output_type": "execute_result"
    }
   ],
   "source": [
    "voc"
   ]
  },
  {
   "cell_type": "code",
   "execution_count": 50,
   "metadata": {
    "collapsed": true,
    "nbpresent": {
     "id": "b626bc25-a3b4-439b-9061-93af485b008b"
    }
   },
   "outputs": [],
   "source": [
    "class RNNMono(nn.Module):\n",
    "    def __init__(self, recur, stop):\n",
    "        super(RNNMono, self).__init__()\n",
    "        self.recur = recur\n",
    "        self.stop = stop\n",
    "    \n",
    "    def forward(self, boot, z):\n",
    "        for i in boot:\n",
    "            z, x = self.recur(i,z)\n",
    "        r = []\n",
    "        r.append(x)\n",
    "        while (x.max(-1)[1].data != self.stop.max(-1)[1]).all() :\n",
    "            z, x = self.recur(x,z)\n",
    "            #print(voc.inverse[x.max(-1)[1].data[-1]])\n",
    "            r.append(x)\n",
    "        return r, z"
   ]
  },
  {
   "cell_type": "raw",
   "metadata": {},
   "source": [
    "class RNNMono(nn.Module):\n",
    "    def __init__(self, recur, stop):\n",
    "        super(RNNMono, self).__init__()\n",
    "        self.recur = recur\n",
    "        self.stop = stop\n",
    "    \n",
    "    def forward(self, boot, z):\n",
    "        for i in boot:\n",
    "            z, x = self.recur(i,z)\n",
    "        x = x.max(0)[1]\n",
    "        x = x.unsqueeze(-1).scatter(-1, x, 1.)\n",
    "        r = x.unsqueeze(0)\n",
    "        while (x != self.stop).all() :\n",
    "            z, x = self.recur(x,z)\n",
    "            '''xm = x.max(0)[1]\n",
    "            x_onehot = torch.FloatTensor(*xm.size(), x.size()[0]).zero_()\n",
    "            x_onehot.scatter_(1, torch.unsqueeze(xm.data, 1), 1.)\n",
    "            x = x_onehot'''\n",
    "            x = x.max(0)[1]\n",
    "            x = x.unsqueeze(-1).scatter_(-1, x, 1.)\n",
    "            r.cat(x.unsqueeze_(-1),0)\n",
    "        return r, z"
   ]
  },
  {
   "cell_type": "code",
   "execution_count": 10,
   "metadata": {
    "collapsed": true,
    "nbpresent": {
     "id": "13c683a1-4314-4f4b-ba89-9595c02e7205"
    }
   },
   "outputs": [],
   "source": [
    "def sequencer(x, end):\n",
    "    r = []\n",
    "    for i in x :\n",
    "        r.append(i)\n",
    "        if i == end :\n",
    "            yield r\n",
    "            r = []"
   ]
  },
  {
   "cell_type": "code",
   "execution_count": 11,
   "metadata": {
    "nbpresent": {
     "id": "26de8649-3e8a-4a05-baad-d2ef655bafd3"
    }
   },
   "outputs": [
    {
     "name": "stdout",
     "output_type": "stream",
     "text": [
      "dave aneckstein4 simmons research4 an ezperian company they have not been charged or formally arrested5 iran isnt making an atomic bomb4 not at all4 chave.\n",
      " said monday5 the japanesemade tin robots have blocky heads and moveable arms and legs5 if they could no longer be the nominees4 then they would be pundits of the first order men with credibility on oval office matters by dint of once sitting in the chair themselves5 free challenge kits have a cd and brochure from dr5 ian4 menu and fitness advice and a pedometer to count steps5 the world motor sport council received statements from fernando alonso4 lewis hamilton and pedro de la rosa stating categorically no ferrari information had been used by mclaren4 and that no confidential data had been passed to the team5 the prime minister said the first citi.\n"
     ]
    }
   ],
   "source": [
    "for i in sequencer(ten[:1000], 35):\n",
    "    print(code2char(i, voc))"
   ]
  },
  {
   "cell_type": "code",
   "execution_count": null,
   "metadata": {
    "collapsed": true,
    "nbpresent": {
     "id": "0f3b34d4-3d05-4851-b49d-e71603744639"
    },
    "scrolled": true
   },
   "outputs": [],
   "source": [
    "torch.manual_seed(1)\n",
    "zLen = 1000\n",
    "vocLen = 36\n",
    "recur = Recurent(zLen, vocLen)\n",
    "\n",
    "endN = torch.LongTensor([vocLen-1])\n",
    "end_onehot = torch.FloatTensor(*endN.size(), vocLen).zero_()\n",
    "end_onehot.scatter_(1, torch.unsqueeze(endN, 1), 1.)\n",
    "\n",
    "m = RNNMono(recur, end_onehot)\n",
    "ml = nn.MSELoss()\n",
    "ite = 500\n",
    "opt = optim.SGD(m.parameters(), lr=1e-3)\n",
    "\n",
    "lossHisto = []\n",
    "scoreHisto = []\n",
    "\n",
    "for i,seq in enumerate(sequencer(ten, 35)):\n",
    "    if i > ite :\n",
    "        break\n",
    "    if i%(ite/10) == 0:\n",
    "        print(\"Iteration\", i)\n",
    "    \n",
    "    xN = torch.LongTensor(seq[:30])\n",
    "    x_onehot = torch.FloatTensor(*xN.size(), vocLen).zero_()\n",
    "    x_onehot.scatter_(1, torch.unsqueeze(xN, 1), 1.)\n",
    "    x = autograd.Variable(x_onehot.type(torch.FloatTensor))\n",
    "    \n",
    "    yN = torch.LongTensor(seq[30:])\n",
    "    y_onehot = torch.FloatTensor(*yN.size(), vocLen).zero_()\n",
    "    y_onehot.scatter_(1, torch.unsqueeze(yN, 1), 1.)\n",
    "    y = autograd.Variable(y_onehot.type(torch.FloatTensor))\n",
    "    \n",
    "    z = autograd.Variable(torch.zeros(zLen).type(torch.FloatTensor))\n",
    "    \n",
    "    f,_ = m.forward(x, z)\n",
    "    print(f, y)\n",
    "    loss = ml.forward(f, y)\n",
    "    loss.backward()\n",
    "    opt.step()\n",
    "    \n",
    "    lossHisto.append(loss.data.mean())\n",
    "    ypred = torch.max(f, 1)[1]\n",
    "    scoreHisto.append(torch.eq(ypred.data, yN).float().mean())\n",
    "    \n",
    "plt.plot(lossHisto)\n",
    "plt.ylabel('loss')\n",
    "plt.xlabel('nb batch traited')\n",
    "plt.show()\n",
    "plt.plot(scoreHisto)\n",
    "plt.ylabel('score')\n",
    "plt.xlabel('nb batch traited')\n",
    "plt.show()"
   ]
  },
  {
   "cell_type": "code",
   "execution_count": null,
   "metadata": {
    "collapsed": true,
    "nbpresent": {
     "id": "44b57bc0-5a12-4da5-a879-305849b19a34"
    }
   },
   "outputs": [],
   "source": []
  }
 ],
 "metadata": {
  "kernelspec": {
   "display_name": "Python 3",
   "language": "python",
   "name": "python3"
  },
  "language_info": {
   "codemirror_mode": {
    "name": "ipython",
    "version": 3
   },
   "file_extension": ".py",
   "mimetype": "text/x-python",
   "name": "python",
   "nbconvert_exporter": "python",
   "pygments_lexer": "ipython3",
   "version": "3.6.1"
  }
 },
 "nbformat": 4,
 "nbformat_minor": 1
}

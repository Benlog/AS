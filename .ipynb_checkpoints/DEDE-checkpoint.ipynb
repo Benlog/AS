{
 "cells": [
  {
   "cell_type": "code",
   "execution_count": 13,
   "metadata": {
    "collapsed": true
   },
   "outputs": [],
   "source": [
    "import numpy as np\n",
    "import matplotlib.pyplot as plt"
   ]
  },
  {
   "cell_type": "code",
   "execution_count": 53,
   "metadata": {
    "collapsed": true
   },
   "outputs": [],
   "source": [
    "class LinearModule(object):\n",
    "    def __init__(self, in_dim=1, out_dim=1, epsilon=0.01, follows=None, followed=None):\n",
    "        self.X = in_dim                                 # Dimension d'entrée\n",
    "        self.Y = out_dim                                # Dimenstion de sortie\n",
    "        self.E = epsilon                                # Pas de gradient\n",
    "        self.T = np.random.random_sample((self.X,))     # Theta aléatoire\n",
    "        self.G = np.zeros((self.X,))                    # Gradient à zéro\n",
    "        self.F = follows                                # Module suivant\n",
    "        self.B = followed                               # Module précédent\n",
    "\n",
    "    def forward(self, x):                               # f_theta(x)\n",
    "        return np.sum([x[i] * self.T[i] for i in range(self.X)])\n",
    "\n",
    "    def backward(self, x, delta):\n",
    "        self.G += delta*x\n",
    "        self.update()                                   # Stochastique : update theta systématique\n",
    "    \n",
    "    def update(self):\n",
    "        self.T -= self.G*self.E\n",
    "\n",
    "        \n",
    "class SigmoidModule(LinearModule):\n",
    "    def forward(self, x):\n",
    "        return (1 - np.exp(-2 * x)) / (1 + np.exp(-2 * x))\n",
    "\n",
    "    def backward(self, x, theta):\n",
    "        return theta * (4 * np.exp(-2 * x)) / ((1 + np.exp(-2 * x)) * (1 + np.exp(-2 * x)))\n",
    "\n",
    "\n",
    "class SquareLoss(object):\n",
    "    def __init__(self, dim):\n",
    "        self.dim = dim\n",
    "\n",
    "    def forward(self, y_predict, y_real):               # Delta(y, ^y)\n",
    "        return np.mean((y_predict - y_real) * (y_predict - y_real))\n",
    "\n",
    "    def backward(self, y_predict, y_real):              # V_y Delta(y, ^y)\n",
    "        return 2*(y_predict-y_real)\n",
    "\n",
    "    \n",
    "# TODO delete\n",
    "def read_libsvm(fname):\n",
    "    with open(fname) as f:\n",
    "        x,y  =list(),list()\n",
    "        for l in f:\n",
    "            line = l.strip().split(\" \")\n",
    "            y.append(int(line[0]))\n",
    "            x.append([float(s.split(\":\")[1]) for s in line[1:]])\n",
    "    return np.array(x),np.array(y)\n",
    "\n",
    "\n",
    "def load_mnist(filename):\n",
    "    with open(filename,\"r\") as f:\n",
    "        f.readline()\n",
    "        data =[ [float(x) for x in l.split()] for l in f if len(l.split())>2]\n",
    "    tmp = np.array(data)\n",
    "    return tmp[:,1:],tmp[:,0].astype(int)\n",
    "\n",
    "\n",
    "def show_usps(data):\n",
    "    plt.imshow(data.reshape((16,16)),interpolation=\"nearest\",cmap=\"gray\")"
   ]
  },
  {
   "cell_type": "markdown",
   "metadata": {},
   "source": [
    "#### Analyse données cancer"
   ]
  },
  {
   "cell_type": "code",
   "execution_count": 50,
   "metadata": {
    "collapsed": true
   },
   "outputs": [],
   "source": [
    "data_x, data_y = read_libsvm(\"breast-cancer_scale\")\n",
    "size = data_x.shape[0]\n",
    "\n",
    "data_y = data_y - 3           # Normalisation des étiquettes\n",
    "\n",
    "in_dim = data_x.shape[1]\n",
    "out_dim = 1\n",
    "iters = 5000\n",
    "ggap = 1e-3\n",
    "module = LinearModule(in_dim, out_dim, ggap)\n",
    "loss = SquareLoss(out_dim)\n",
    "\n",
    "# Train\n",
    "data_x_a = data_x[:int(0.8*size)]\n",
    "data_y_a = data_y[:int(0.8*size)]\n",
    "\n",
    "# Tests\n",
    "data_x_t = data_x[int(0.8*size):]\n",
    "data_y_t = data_y[int(0.8*size):]"
   ]
  },
  {
   "cell_type": "code",
   "execution_count": 51,
   "metadata": {},
   "outputs": [
    {
     "data": {
      "image/png": "[encoded data removed]",
      "text/plain": [
       "<matplotlib.figure.Figure at 0x7fe0b46141d0>"
      ]
     },
     "metadata": {},
     "output_type": "display_data"
    },
    {
     "data": {
      "image/png": "[encoded data removed]",
      "text/plain": [
       "<matplotlib.figure.Figure at 0x7fe0dfbe3860>"
      ]
     },
     "metadata": {},
     "output_type": "display_data"
    }
   ],
   "source": [
    "loss_value = []\n",
    "train_accuracy = []\n",
    "tests_accuracy = []\n",
    "grad = []\n",
    "\n",
    "for i in range(iters):\n",
    "    train_i = np.random.randint(len(data_x_a))\n",
    "    tests_i = np.random.randint(len(data_x_t))\n",
    "    y_predict = module.forward(data_x[ind])\n",
    "    #loss_value_i.append(loss.forward(y_predict, data_y_a[ind]))\n",
    "    module.backward(data_x[ind], loss.backward(y_predict, data_y_a[ind]))\n",
    "    \n",
    "    loss_value_i = []\n",
    "    accuracy_a_i = 0\n",
    "    for x, y in zip(data_x_a, data_y_a):\n",
    "        yp = module.forward(x)\n",
    "        if y > 0 and yp > 0 or y < 0 and yp < 0:\n",
    "            accuracy_a_i += 1\n",
    "        loss_value_i.append(loss.forward(yp, y))\n",
    "        \n",
    "    accuracy_t_i = 0\n",
    "    for x, y in zip(data_x_t, data_y_t):\n",
    "        yp = module.forward(x)\n",
    "        if y > 0 and yp > 0 or y < 0 and yp < 0:\n",
    "            accuracy_t_i += 1\n",
    "            \n",
    "    loss_value.append(np.mean(loss_value_i))\n",
    "    train_accuracy.append(np.mean(accuracy_a_i/len(data_x_a)))\n",
    "    tests_accuracy.append(np.mean(accuracy_t_i/len(data_x_t)))\n",
    "    grad.append(module.G)\n",
    "        \n",
    "\n",
    "plt.plot(loss_value, 'b')\n",
    "plt.plot(train_accuracy, 'r')\n",
    "plt.plot(tests_accuracy, 'g')\n",
    "plt.show()\n",
    "plt.plot(grad)\n",
    "plt.show()"
   ]
  },
  {
   "cell_type": "code",
   "execution_count": null,
   "metadata": {
    "collapsed": true
   },
   "outputs": [],
   "source": [
    "'''m2 = Module(3, 1)\n",
    "\n",
    "while(True):\n",
    "    (x,y) <- uniform(1,N)\n",
    "    ŷ = m1.forward(x)\n",
    "    ŷ2 = m2.forward(ŷ)\n",
    "    em = loss.backward(ŷ,y)\n",
    "    de = loss.backward(ŷ2,y)\n",
    "    m2.backward_update_gradient(ŷ, de)\n",
    "    deprim = m2.bakward(ŷ,de)\n",
    "    m1.backward_update_gradient(x, deprim)\n",
    "    deprim2 = m2.backward(x, deprim)\n",
    "    m1.updateParams(e)\n",
    "    m2.updateParams(e)'''"
   ]
  },
  {
   "cell_type": "markdown",
   "metadata": {},
   "source": [
    "## TODO\n",
    "* chaine modules (256) linéaire (500) sigmoide (500) linéaire (10) sigmoide (10) Delta pour classification chiffres numérisés nmist (mapsi ou arf)"
   ]
  },
  {
   "cell_type": "code",
   "execution_count": 104,
   "metadata": {},
   "outputs": [
    {
     "data": {
      "text/plain": [
       "array([ 1,  4,  9, 16])"
      ]
     },
     "execution_count": 104,
     "metadata": {},
     "output_type": "execute_result"
    }
   ],
   "source": [
    "a = np.array([1,2,3,4])\n",
    "a*a"
   ]
  },
  {
   "cell_type": "code",
   "execution_count": 52,
   "metadata": {
    "collapsed": true
   },
   "outputs": [],
   "source": [
    "data_x_a, data_y_a = load_mnist(\"USPS/USPS_train.txt\")\n",
    "size_a = data_x_a.shape[0]\n",
    "\n",
    "data_x_t, data_y_t = load_mnist(\"USPS/USPS_test.txt\")\n",
    "size_t = data_x_t.shape[0]"
   ]
  },
  {
   "cell_type": "code",
   "execution_count": 42,
   "metadata": {
    "collapsed": true
   },
   "outputs": [],
   "source": [
    "dim = [256, 500, 500, 10, 10]\n",
    "iters = 500\n",
    "ggap = 1e-5\n",
    "modules = [LinearModule(dim[0], dim[1], ggap, )]\n",
    "loss = SquareLoss(out_dim)"
   ]
  },
  {
   "cell_type": "code",
   "execution_count": null,
   "metadata": {
    "collapsed": true
   },
   "outputs": [],
   "source": [
    "loss_value = []\n",
    "train_accuracy = []\n",
    "tests_accuracy = []\n",
    "grad = []\n",
    "\n",
    "for i in range(iters):\n",
    "    train_i = np.random.randint(len(data_x_a))\n",
    "    tests_i = np.random.randint(len(data_x_t))\n",
    "    y_predict = module.forward(data_x[ind])\n",
    "    #loss_value_i.append(loss.forward(y_predict, data_y_a[ind]))\n",
    "    module.backward(data_x[ind], loss.backward(y_predict, data_y_a[ind]))\n",
    "    \n",
    "    loss_value_i = []\n",
    "    accuracy_a_i = 0\n",
    "    for x, y in zip(data_x_a, data_y_a):\n",
    "        yp = module.forward(x)\n",
    "        if y > 0 and yp > 0 or y < 0 and yp < 0:\n",
    "            accuracy_a_i += 1\n",
    "        loss_value_i.append(loss.forward(yp, y))\n",
    "        \n",
    "    accuracy_t_i = 0\n",
    "    for x, y in zip(data_x_t, data_y_t):\n",
    "        yp = module.forward(x)\n",
    "        if y > 0 and yp > 0 or y < 0 and yp < 0:\n",
    "            accuracy_t_i += 1\n",
    "            \n",
    "    loss_value.append(np.mean(loss_value_i))\n",
    "    train_accuracy.append(np.mean(accuracy_a_i/len(data_x_a)))\n",
    "    tests_accuracy.append(np.mean(accuracy_t_i/len(data_x_t)))\n",
    "    grad.append(module.G)\n",
    "        \n",
    "\n",
    "plt.plot(loss_value, 'b')\n",
    "plt.plot(train_accuracy, 'r')\n",
    "plt.plot(tests_accuracy, 'g')\n",
    "plt.show()\n",
    "plt.plot(grad)\n",
    "plt.show()"
   ]
  }
 ],
 "metadata": {
  "kernelspec": {
   "display_name": "Python 3",
   "language": "python",
   "name": "python3"
  },
  "language_info": {
   "codemirror_mode": {
    "name": "ipython",
    "version": 3
   },
   "file_extension": ".py",
   "mimetype": "text/x-python",
   "name": "python",
   "nbconvert_exporter": "python",
   "pygments_lexer": "ipython3",
   "version": "3.6.2"
  }
 },
 "nbformat": 4,
 "nbformat_minor": 2
}

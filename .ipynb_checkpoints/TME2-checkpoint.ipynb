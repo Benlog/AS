{
 "cells": [
  {
   "cell_type": "code",
   "execution_count": 1,
   "metadata": {
    "collapsed": true
   },
   "outputs": [],
   "source": [
    "import pandas as pd\n",
    "import numpy as np\n",
    "from matplotlib import pyplot as plt\n",
    "%matplotlib inline"
   ]
  },
  {
   "cell_type": "code",
   "execution_count": 2,
   "metadata": {
    "collapsed": true
   },
   "outputs": [],
   "source": [
    "def load_mnist(filename):\n",
    "    with open(filename,\"r\") as f:\n",
    "        f.readline()\n",
    "        data =[ [float(x) for x in l.split()] for l in f if len(l.split())>2]\n",
    "    tmp = np.array(data)\n",
    "    return tmp[:,1:],tmp[:,0].astype(int)"
   ]
  },
  {
   "cell_type": "code",
   "execution_count": 3,
   "metadata": {},
   "outputs": [],
   "source": [
    "def encode(y):\n",
    "    if type(y) == int or y.size == 1:\n",
    "        if y > 9 :\n",
    "            raise Exception(\"Nombre à encoder trop élevé\", y)\n",
    "        y = np.array(y, ndmin = 1)\n",
    "    a = np.ones((y.size, 10)) * -1\n",
    "    for i in range(len(a)):\n",
    "        if y[i] > 9 :\n",
    "            raise Exception(\"Nombre à encoder trop élevé\", y[i])\n",
    "        a[i,y[i]] = 1\n",
    "    return a"
   ]
  },
  {
   "cell_type": "code",
   "execution_count": 4,
   "metadata": {
    "collapsed": true
   },
   "outputs": [],
   "source": [
    "def accuracy(yPred, y):\n",
    "    return np.mean(yPred == y)"
   ]
  },
  {
   "cell_type": "code",
   "execution_count": 5,
   "metadata": {},
   "outputs": [
    {
     "data": {
      "image/png": "[encoded data removed]",
      "text/plain": [
       "<matplotlib.figure.Figure at 0x1d2bdb43668>"
      ]
     },
     "metadata": {},
     "output_type": "display_data"
    },
    {
     "name": "stdout",
     "output_type": "stream",
     "text": [
      "6\n"
     ]
    }
   ],
   "source": [
    "'''256 > linéaire > 500 > sig > 500 > linéaire > 10 > sig > 10'''\n",
    "train = load_mnist(\"USPS_train.txt\")\n",
    "test = load_mnist(\"USPS_test.txt\")\n",
    "plt.imshow(train[0][0].reshape(16,16), cmap='gray')\n",
    "plt.show()\n",
    "print(train[1][0])"
   ]
  },
  {
   "cell_type": "code",
   "execution_count": 6,
   "metadata": {
    "collapsed": true
   },
   "outputs": [],
   "source": [
    "class Loss(object):\n",
    "    def forward(self, yPred, y):\n",
    "        pass\n",
    "\n",
    "    def backward(self, yPred, y):\n",
    "        pass\n",
    "\n",
    "class Module(object):\n",
    "    def forward(self, x):\n",
    "        pass\n",
    "\n",
    "    def backward(self, x, delta):\n",
    "        pass\n",
    "\n",
    "    def update(self):\n",
    "        pass"
   ]
  },
  {
   "cell_type": "code",
   "execution_count": 7,
   "metadata": {
    "collapsed": true
   },
   "outputs": [],
   "source": [
    "class SquareLoss(Loss):\n",
    "    def forward(self, yPred, y):\n",
    "        return np.mean((yPred - y) * (yPred - y))\n",
    "\n",
    "    def backward(self, yPred, y):\n",
    "        return (2 * yPred - 2 * y) / yPred.size"
   ]
  },
  {
   "cell_type": "code",
   "execution_count": 8,
   "metadata": {},
   "outputs": [],
   "source": [
    "class Linear(Module):\n",
    "    def __init__(self, n, e = 0.0001, rand = True):\n",
    "        '''n taille vecteur de sortie'''\n",
    "        self.ini = False\n",
    "        self.n = n\n",
    "        self.eps = e\n",
    "        self.rand = rand\n",
    "    \n",
    "    def init(self, n):\n",
    "        if self.rand :\n",
    "            self.param = np.random.rand(n, self.n)\n",
    "        else :\n",
    "            self.param = np.ones((n, self.n))\n",
    "        self.grad = np.zeros((n, self.n))\n",
    "        self.gradHisto = self.grad.reshape((1, n, self.n))\n",
    "        self.ini = True\n",
    "\n",
    "    def forward(self, x):\n",
    "        if len(x.shape) == 1 :\n",
    "            x = x.reshape((1,x.size))\n",
    "        if self.ini == False :\n",
    "            self.init(x.shape[1])\n",
    "        return np.dot(x, self.param)\n",
    "    \n",
    "    def backward(self, x, theta):\n",
    "        if len(x.shape) == 1 :\n",
    "            x = x.reshape((1, x.size))\n",
    "        if len(theta.shape) == 1:\n",
    "            theta = theta.reshape((1, theta.size))\n",
    "        g = theta * x.T\n",
    "        self.grad += g\n",
    "        self.gradHisto = np.concatenate((self.gradHisto, g.reshape((1, -1, self.n))))\n",
    "        return np.dot(theta, self.param.T)\n",
    "        \n",
    "    def update(self):\n",
    "        self.param = self.param - self.eps * self.grad"
   ]
  },
  {
   "cell_type": "code",
   "execution_count": 9,
   "metadata": {
    "collapsed": true
   },
   "outputs": [],
   "source": [
    "class GroupMod(Module):\n",
    "    '''Module servant à regrouper d'autre modules '''\n",
    "    def __init__(self, m, e = 0.0001):\n",
    "        self.mod = m\n",
    "        self.eps = e\n",
    "    \n",
    "    def forward(self, x):\n",
    "        self.x = [x]\n",
    "        for i in range(len(self.mod)):\n",
    "            self.x.append(self.mod[i].forward(self.x[-1]))\n",
    "        return self.x[-1]\n",
    "    \n",
    "    def backward(self, x, theta):\n",
    "        '''doit impérativement être précèdé d'un forward '''\n",
    "        for i in range(len(self.mod)):\n",
    "            theta = self.mod[-i-1].backward(self.x[-i-2], theta)\n",
    "        return theta\n",
    "\n",
    "    def update(self):\n",
    "        for i in range(len(self.mod)):\n",
    "            self.mod[i].eps = self.eps\n",
    "            self.mod[i].update()"
   ]
  },
  {
   "cell_type": "code",
   "execution_count": 10,
   "metadata": {},
   "outputs": [],
   "source": [
    "class Htan(Module):\n",
    "    def forward(self, x):\n",
    "        return (1 - np.exp(-2*x))/(1+np.exp(-2*x))\n",
    "    \n",
    "    def backward(self, x, theta):\n",
    "        return theta * (4*np.exp(-2*x))/((1+np.exp(-2*x)) * (1+np.exp(-2*x)))"
   ]
  },
  {
   "cell_type": "code",
   "execution_count": 11,
   "metadata": {},
   "outputs": [
    {
     "name": "stdout",
     "output_type": "stream",
     "text": [
      "[ 0.          0.76159416  0.96402758  0.99505475  0.9993293   0.9999092 ] [  5.00000000e+00   2.09987171e+00   3.53254124e-01   4.93301858e-02\n",
      "   6.70475342e-03   9.07916155e-04]\n"
     ]
    }
   ],
   "source": [
    "x = np.arange(6)\n",
    "h = Htan()\n",
    "print(h.forward(x), h.backward(x, 5))"
   ]
  },
  {
   "cell_type": "code",
   "execution_count": 12,
   "metadata": {},
   "outputs": [
    {
     "name": "stdout",
     "output_type": "stream",
     "text": [
      "[[  86.53661893   87.12355967   88.16116038   91.76279932]\n",
      " [ 110.7386568   109.78236426  114.34415781  114.52054853]\n",
      " [  55.52687519   58.65962494   60.6280324    57.90904616]] [[ 110.04737737  273.31239178  147.70624502  179.19706933  197.63332874\n",
      "   164.14541436  212.66636605  138.85021962  128.64345084  272.94148236]\n",
      " [ 141.21898942  346.87539419  186.88077652  227.53317405  250.1097266\n",
      "   206.40585389  268.1433576   176.20681539  165.11953783  346.7836354 ]\n",
      " [  74.47347518  178.85612774   98.36860972  116.10083069  127.24173848\n",
      "   106.54920498  138.63788371   91.24499697   85.08093348  179.3032212 ]] [[ 1.  1.  1.  1.  1.  1.  1.  1.  1.  1.]\n",
      " [ 1.  1.  1.  1.  1.  1.  1.  1.  1.  1.]\n",
      " [ 1.  1.  1.  1.  1.  1.  1.  1.  1.  1.]] 3.6\n"
     ]
    }
   ],
   "source": [
    "l = Linear(4)\n",
    "l2 = Linear(10)\n",
    "s = SquareLoss()\n",
    "a = l.forward(train[0][0:3])\n",
    "b = l2.forward(a)\n",
    "c = h.forward(b)\n",
    "y = s.forward(c, encode(train[1][0]))\n",
    "print(a,b, c, y)"
   ]
  },
  {
   "cell_type": "code",
   "execution_count": 13,
   "metadata": {},
   "outputs": [],
   "source": [
    "def gradStoAff(m, l, tx, ty, tex, tey, n = 100, f = 3):\n",
    "    ''' x in size N*arg'''\n",
    "    errt = []\n",
    "    errte = []\n",
    "    for i in range(n):\n",
    "        errt.append(l.forward(m.forward(tx), ty))\n",
    "        errte.append(l.forward(m.forward(tex), tey))\n",
    "        j = np.random.randint(0,len(tx))\n",
    "        yPred = m.forward(tx[j])\n",
    "        theta = l.backward(yPred[-1], ty[j])\n",
    "        m.backward(tx[j], theta)\n",
    "        m.update()\n",
    "        if i%(n//f) == 0 :\n",
    "            m.eps = m.eps/2\n",
    "    return errt, errte"
   ]
  },
  {
   "cell_type": "code",
   "execution_count": 14,
   "metadata": {},
   "outputs": [],
   "source": [
    "l = Linear(10)\n",
    "errt, errte = gradStoAff(l, s, train[0], encode(train[1]), test[0], encode(test[1]))"
   ]
  },
  {
   "cell_type": "code",
   "execution_count": 15,
   "metadata": {},
   "outputs": [
    {
     "data": {
      "image/png": "[encoded data removed]",
      "text/plain": [
       "<matplotlib.figure.Figure at 0x1d2bf6ca7f0>"
      ]
     },
     "metadata": {},
     "output_type": "display_data"
    },
    {
     "name": "stdout",
     "output_type": "stream",
     "text": [
      "72.5140874742 80.7671322662\n"
     ]
    }
   ],
   "source": [
    "plt.plot(errt, 'b')\n",
    "plt.plot(errte, 'r')\n",
    "plt.show()\n",
    "print(np.min(errt), np.min(errte)) "
   ]
  },
  {
   "cell_type": "code",
   "execution_count": 16,
   "metadata": {},
   "outputs": [],
   "source": [
    "l = []\n",
    "l.append(Linear(500))\n",
    "l.append(Htan())\n",
    "l.append(Linear(10))\n",
    "l.append(Htan())\n",
    "m = GroupMod(l)\n",
    "errt, errte = gradStoAff(m, s, train[0], encode(train[1]), test[0], encode(test[1]))"
   ]
  },
  {
   "cell_type": "code",
   "execution_count": 17,
   "metadata": {},
   "outputs": [
    {
     "data": {
      "image/png": "[encoded data removed]",
      "text/plain": [
       "<matplotlib.figure.Figure at 0x1d2bf8ee240>"
      ]
     },
     "metadata": {},
     "output_type": "display_data"
    },
    {
     "name": "stdout",
     "output_type": "stream",
     "text": [
      "3.6 3.6\n"
     ]
    }
   ],
   "source": [
    "plt.plot(errt, 'b')\n",
    "plt.plot(errte, 'r')\n",
    "plt.show()\n",
    "print(np.min(errt), np.min(errte)) "
   ]
  },
  {
   "cell_type": "code",
   "execution_count": 26,
   "metadata": {},
   "outputs": [
    {
     "data": {
      "text/plain": [
       "array([[  7.40291123e-213,   1.50811800e-205,   3.76630776e-216, ...,\n",
       "          5.73107385e-216,   1.95099099e-216,   9.19184197e-211],\n",
       "       [  7.40291123e-213,   1.50811800e-205,   3.76630776e-216, ...,\n",
       "          5.73107385e-216,   1.95099099e-216,   9.19184197e-211],\n",
       "       [  7.40291123e-213,   1.50811800e-205,   3.76630776e-216, ...,\n",
       "          5.73107385e-216,   1.95099099e-216,   9.19184197e-211],\n",
       "       ..., \n",
       "       [  7.40291123e-213,   1.50811800e-205,   3.76630776e-216, ...,\n",
       "          5.73107385e-216,   1.95099099e-216,   9.19184197e-211],\n",
       "       [  7.40291123e-213,   1.50811800e-205,   3.76630776e-216, ...,\n",
       "          5.73107385e-216,   1.95099099e-216,   9.19184197e-211],\n",
       "       [  7.40291123e-213,   1.50811800e-205,   3.76630776e-216, ...,\n",
       "          5.73107385e-216,   1.95099099e-216,   9.19184197e-211]])"
      ]
     },
     "execution_count": 26,
     "metadata": {},
     "output_type": "execute_result"
    }
   ],
   "source": [
    "m.mod[2].gradHisto[0]"
   ]
  },
  {
   "cell_type": "markdown",
   "metadata": {},
   "source": [
    "Le gradient du 2è module linéaire est très faible car il y a beaucoups de bonnes dimensions de sortie (9 dimensions sur 10 sont bonnes), la chaine de module fonctionne mais il faut revoir la fonction de loss."
   ]
  },
  {
   "cell_type": "code",
   "execution_count": null,
   "metadata": {
    "collapsed": true
   },
   "outputs": [],
   "source": []
  }
 ],
 "metadata": {
  "kernelspec": {
   "display_name": "Python 3",
   "language": "python",
   "name": "python3"
  },
  "language_info": {
   "codemirror_mode": {
    "name": "ipython",
    "version": 3
   },
   "file_extension": ".py",
   "mimetype": "text/x-python",
   "name": "python",
   "nbconvert_exporter": "python",
   "pygments_lexer": "ipython3",
   "version": "3.6.2"
  }
 },
 "nbformat": 4,
 "nbformat_minor": 1
}

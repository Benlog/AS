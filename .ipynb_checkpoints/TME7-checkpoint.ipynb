{
 "cells": [
  {
   "cell_type": "code",
   "execution_count": 1,
   "metadata": {
    "collapsed": true
   },
   "outputs": [],
   "source": [
    "import torch\n",
    "import torch.autograd as autograd\n",
    "import torch.nn as nn\n",
    "import torch.nn.functional as F\n",
    "import torch.optim as optim\n",
    "from matplotlib import pyplot as plt\n",
    "%matplotlib inline"
   ]
  },
  {
   "cell_type": "code",
   "execution_count": null,
   "metadata": {
    "collapsed": true
   },
   "outputs": [],
   "source": [
    "class Recurent(nn.Module):\n",
    "    def __init__(self, tailleZ, tailleVoc, actF = nn.Sigmoid()):\n",
    "        '''X et Y vecteur onehot de taille tailleVoc\n",
    "        Z vecteur de stockage de taille tailleZ'''\n",
    "        super(Recurent, self).__init__()\n",
    "        self.XToY = nn.Linear(tailleVoc, tailleVoc)\n",
    "        self.XToZ = nn.Linear(tailleVoc, tailleZ)\n",
    "        self.ZToY = nn.Linear(tailleZ, tailleVoc)\n",
    "        self.ZToZ = nn.Linear(tailleZ, tailleZ)\n",
    "        self.actF = actF\n",
    "\n",
    "    def forward(self, x, z):\n",
    "        '''return Z, Y'''\n",
    "        return self.actF(self.XtoZ(x) + self.ZtoZ(z)), self.actF(self.XtoY(x) + self.ZtoY(z))"
   ]
  }
 ],
 "metadata": {
  "kernelspec": {
   "display_name": "Python 3",
   "language": "python",
   "name": "python3"
  },
  "language_info": {
   "codemirror_mode": {
    "name": "ipython",
    "version": 3
   },
   "file_extension": ".py",
   "mimetype": "text/x-python",
   "name": "python",
   "nbconvert_exporter": "python",
   "pygments_lexer": "ipython3",
   "version": "3.6.3"
  }
 },
 "nbformat": 4,
 "nbformat_minor": 1
}
